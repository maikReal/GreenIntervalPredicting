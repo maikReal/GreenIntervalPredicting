{
 "cells": [
  {
   "cell_type": "code",
   "execution_count": 1,
   "metadata": {
    "ExecuteTime": {
     "end_time": "2020-02-25T18:15:50.801396Z",
     "start_time": "2020-02-25T18:15:49.778769Z"
    }
   },
   "outputs": [],
   "source": [
    "import pandas as pd\n",
    "import numpy as np"
   ]
  },
  {
   "cell_type": "markdown",
   "metadata": {},
   "source": [
    "# ANAlYSIS"
   ]
  },
  {
   "cell_type": "markdown",
   "metadata": {},
   "source": [
    "|кол-во людей на переходе | \tкол-во шагов при пересечении дороги |длина перехода |\tскорость пешехода |\tвремя реакции пешехода на зеленый свет |фикс время перехода | \tсколько потратили на переход|\n",
    "|---|---|---|---|---|---|---|\n",
    "|---|\t25-30 шагов|\t~20 метров\t|---|\t4 сек |\t\t~25 сек| ---|\t"
   ]
  },
  {
   "cell_type": "markdown",
   "metadata": {},
   "source": [
    "FORMULA FOR CALCULATION OPTIMAL DURATION OF GREEN INTERVAL: <br>\n",
    "\n",
    "\\begin{align}\n",
    "T_{opt} = t_1 + \\frac{B}{V_p} + log_{10}(n+1)*n + w_b * [b == 1] + w_{ch} * [ch == 1] + w_{old} * [old == 1] - w_r * [r == 1] \n",
    "\\end{align}\n",
    "<br>\n",
    "\n",
    "$t_1$ is the starting delay of the first row of pedestrians once a green traffic light turns on (`const 3 sec`) <br>\n",
    "$B$ is the width of the traffic way in meters <br>\n",
    "$V_p$ is the speed of pedestrians (varies greatly from `0.5 m/s` to `1.5 m/s` <br>\n",
    "$n$ - number of pedestrians, which will cross the road <br>\n",
    "<b>$[b == 1]$</b> - есть ли рядом места большого скопления народа\n",
    "$w_b$ - вес для $[b == 1]$ <br>\n",
    "$[ch == 1]$ - текущий момент это период времени, когда много мам с колясками <br>\n",
    "$w_{ch}$ - вес для события $[ch == 1]$ <br>\n",
    "$[old == 1]$ - текущий момент это период времени, когда много пожилых людей <br>\n",
    "$w_{old}$ - вес для $[old == 1]$ <br>\n",
    "$[r == 1]$ - текущий момент это период времени, когда сильный поток машин на дороге <br>\n",
    "$w_{r}$ - вес для $[r == 1]$ <br>"
   ]
  },
  {
   "cell_type": "markdown",
   "metadata": {},
   "source": [
    "# IMPLEMENTATION"
   ]
  },
  {
   "cell_type": "code",
   "execution_count": 11,
   "metadata": {
    "ExecuteTime": {
     "end_time": "2020-02-28T13:03:05.957030Z",
     "start_time": "2020-02-28T13:03:05.952045Z"
    }
   },
   "outputs": [],
   "source": [
    "# constant parameters\n",
    "t1 = 3\n",
    "V_p = 1.2\n",
    "\n",
    "# user parameters\n",
    "N = 1\n",
    "road_width = 18\n",
    "\n",
    "# coefs for our events\n",
    "w_b = np.random.normal(6, 2, 1) \n",
    "w_ch = np.random.normal(7, 2, 1)\n",
    "w_old = np.random.normal(8, 2, 1)\n",
    "w_r = np.random.normal(6, 2, 1)\n",
    "\n",
    "# events\n",
    "b = 0\n",
    "ch = 0\n",
    "old = 0\n",
    "r = 0"
   ]
  },
  {
   "cell_type": "code",
   "execution_count": 12,
   "metadata": {
    "ExecuteTime": {
     "end_time": "2020-02-28T13:03:06.901292Z",
     "start_time": "2020-02-28T13:03:06.894315Z"
    }
   },
   "outputs": [],
   "source": [
    "params = {\n",
    "    'N': N,\n",
    "    'w_b': w_b,\n",
    "    'w_ch': w_ch,\n",
    "    'w_old': w_old,\n",
    "    'w_r': w_r,\n",
    "    'V_p': V_p,\n",
    "    'isCrowdy': b,\n",
    "    'isManyChildren': ch,\n",
    "    'isManyElders': old,\n",
    "    'isManyCars': r,\n",
    "    't1': t1,\n",
    "    'B': road_width\n",
    "}\n",
    "\n",
    "def calculate_optimal_time(params):\n",
    "    \n",
    "    # calculating green interval in seconds\n",
    "    result = params['t1'] + params['B'] / params['V_p'] + np.log(params['N'] + 1) * params['N'] + \\\n",
    "                params['w_b'] * params['isCrowdy'] + params['w_ch'] * params['isManyChildren'] + \\\n",
    "                params['w_old'] * params['isManyElders'] + params['w_r'] * params['isManyCars']\n",
    "    \n",
    "    return result\n",
    "    \n",
    "    "
   ]
  },
  {
   "cell_type": "code",
   "execution_count": 13,
   "metadata": {
    "ExecuteTime": {
     "end_time": "2020-02-28T13:03:07.633134Z",
     "start_time": "2020-02-28T13:03:07.627150Z"
    }
   },
   "outputs": [
    {
     "data": {
      "text/plain": [
       "array([18.69314718])"
      ]
     },
     "execution_count": 13,
     "metadata": {},
     "output_type": "execute_result"
    }
   ],
   "source": [
    "calculate_optimal_time(params)"
   ]
  }
 ],
 "metadata": {
  "kernelspec": {
   "display_name": "Python 3",
   "language": "python",
   "name": "python3"
  },
  "language_info": {
   "codemirror_mode": {
    "name": "ipython",
    "version": 3
   },
   "file_extension": ".py",
   "mimetype": "text/x-python",
   "name": "python",
   "nbconvert_exporter": "python",
   "pygments_lexer": "ipython3",
   "version": "3.7.3"
  },
  "toc": {
   "base_numbering": 1,
   "nav_menu": {},
   "number_sections": true,
   "sideBar": true,
   "skip_h1_title": false,
   "title_cell": "Table of Contents",
   "title_sidebar": "Contents",
   "toc_cell": false,
   "toc_position": {},
   "toc_section_display": true,
   "toc_window_display": false
  },
  "varInspector": {
   "cols": {
    "lenName": 16,
    "lenType": 16,
    "lenVar": 40
   },
   "kernels_config": {
    "python": {
     "delete_cmd_postfix": "",
     "delete_cmd_prefix": "del ",
     "library": "var_list.py",
     "varRefreshCmd": "print(var_dic_list())"
    },
    "r": {
     "delete_cmd_postfix": ") ",
     "delete_cmd_prefix": "rm(",
     "library": "var_list.r",
     "varRefreshCmd": "cat(var_dic_list()) "
    }
   },
   "types_to_exclude": [
    "module",
    "function",
    "builtin_function_or_method",
    "instance",
    "_Feature"
   ],
   "window_display": false
  }
 },
 "nbformat": 4,
 "nbformat_minor": 2
}
