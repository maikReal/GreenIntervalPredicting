{
 "cells": [
  {
   "cell_type": "code",
   "execution_count": 2,
   "metadata": {
    "ExecuteTime": {
     "end_time": "2020-03-26T16:37:34.346214Z",
     "start_time": "2020-03-26T16:37:33.279394Z"
    }
   },
   "outputs": [],
   "source": [
    "import json\n",
    "import os\n",
    "import cv2\n",
    "import pandas as pd\n",
    "import numpy as np"
   ]
  },
  {
   "cell_type": "code",
   "execution_count": 3,
   "metadata": {
    "ExecuteTime": {
     "end_time": "2020-03-26T16:37:34.906463Z",
     "start_time": "2020-03-26T16:37:34.899453Z"
    }
   },
   "outputs": [],
   "source": [
    "# path to folder with images\n",
    "images_path = 'images'\n",
    "\n",
    "# path to data folder\n",
    "data_path = os.path.join('../Data')"
   ]
  },
  {
   "cell_type": "code",
   "execution_count": 88,
   "metadata": {
    "ExecuteTime": {
     "end_time": "2020-02-24T08:05:22.193621Z",
     "start_time": "2020-02-24T08:05:22.173526Z"
    }
   },
   "outputs": [
    {
     "data": {
      "text/html": [
       "<div>\n",
       "<style scoped>\n",
       "    .dataframe tbody tr th:only-of-type {\n",
       "        vertical-align: middle;\n",
       "    }\n",
       "\n",
       "    .dataframe tbody tr th {\n",
       "        vertical-align: top;\n",
       "    }\n",
       "\n",
       "    .dataframe thead th {\n",
       "        text-align: right;\n",
       "    }\n",
       "</style>\n",
       "<table border=\"1\" class=\"dataframe\">\n",
       "  <thead>\n",
       "    <tr style=\"text-align: right;\">\n",
       "      <th></th>\n",
       "      <th>image</th>\n",
       "      <th>xmin</th>\n",
       "      <th>ymin</th>\n",
       "      <th>xmax</th>\n",
       "      <th>ymax</th>\n",
       "      <th>label</th>\n",
       "    </tr>\n",
       "  </thead>\n",
       "  <tbody>\n",
       "    <tr>\n",
       "      <td>0</td>\n",
       "      <td>26423584250_612f177fef_b.jpg</td>\n",
       "      <td>736.960157</td>\n",
       "      <td>275.811749</td>\n",
       "      <td>789.990983</td>\n",
       "      <td>543.456851</td>\n",
       "      <td>Pedestrian</td>\n",
       "    </tr>\n",
       "    <tr>\n",
       "      <td>1</td>\n",
       "      <td>26423584250_612f177fef_b.jpg</td>\n",
       "      <td>796.725031</td>\n",
       "      <td>286.753241</td>\n",
       "      <td>910.362515</td>\n",
       "      <td>683.000000</td>\n",
       "      <td>Pedestrian</td>\n",
       "    </tr>\n",
       "    <tr>\n",
       "      <td>2</td>\n",
       "      <td>26423584250_612f177fef_b.jpg</td>\n",
       "      <td>796.725031</td>\n",
       "      <td>286.753241</td>\n",
       "      <td>910.362515</td>\n",
       "      <td>683.000000</td>\n",
       "      <td>Road</td>\n",
       "    </tr>\n",
       "    <tr>\n",
       "      <td>3</td>\n",
       "      <td>26423584250_612f177fef_b.jpg</td>\n",
       "      <td>252.106890</td>\n",
       "      <td>226.995989</td>\n",
       "      <td>271.467324</td>\n",
       "      <td>264.028657</td>\n",
       "      <td>Pedestrian</td>\n",
       "    </tr>\n",
       "    <tr>\n",
       "      <td>4</td>\n",
       "      <td>26423584250_612f177fef_b.jpg</td>\n",
       "      <td>203.284834</td>\n",
       "      <td>222.787720</td>\n",
       "      <td>219.278283</td>\n",
       "      <td>252.245527</td>\n",
       "      <td>Pedestrian</td>\n",
       "    </tr>\n",
       "  </tbody>\n",
       "</table>\n",
       "</div>"
      ],
      "text/plain": [
       "                          image        xmin        ymin        xmax  \\\n",
       "0  26423584250_612f177fef_b.jpg  736.960157  275.811749  789.990983   \n",
       "1  26423584250_612f177fef_b.jpg  796.725031  286.753241  910.362515   \n",
       "2  26423584250_612f177fef_b.jpg  796.725031  286.753241  910.362515   \n",
       "3  26423584250_612f177fef_b.jpg  252.106890  226.995989  271.467324   \n",
       "4  26423584250_612f177fef_b.jpg  203.284834  222.787720  219.278283   \n",
       "\n",
       "         ymax       label  \n",
       "0  543.456851  Pedestrian  \n",
       "1  683.000000  Pedestrian  \n",
       "2  683.000000        Road  \n",
       "3  264.028657  Pedestrian  \n",
       "4  252.245527  Pedestrian  "
      ]
     },
     "execution_count": 88,
     "metadata": {},
     "output_type": "execute_result"
    }
   ],
   "source": [
    "data = pd.read_csv(os.path.join(data_path, 'annotation.csv'))\n",
    "data.head()"
   ]
  },
  {
   "cell_type": "code",
   "execution_count": 89,
   "metadata": {
    "ExecuteTime": {
     "end_time": "2020-02-24T08:05:23.913284Z",
     "start_time": "2020-02-24T08:05:23.906268Z"
    }
   },
   "outputs": [
    {
     "data": {
      "text/plain": [
       "(961, 6)"
      ]
     },
     "execution_count": 89,
     "metadata": {},
     "output_type": "execute_result"
    }
   ],
   "source": [
    "data.shape"
   ]
  },
  {
   "cell_type": "code",
   "execution_count": 91,
   "metadata": {
    "ExecuteTime": {
     "end_time": "2020-02-24T08:05:28.172371Z",
     "start_time": "2020-02-24T08:05:28.164277Z"
    }
   },
   "outputs": [],
   "source": [
    "non_images = ['photo_2020-02-19_20-24-47%2520(2).jpg', 'photo_2020-02-19_20-24-50%2520(2).jpg',\n",
    "             'photo_2020-02-19_20-24-52%2520(2).jpg', 'photo_2020-02-19_20-24-55%2520(2).jpg',\n",
    "             'photo_2020-02-19_20-24-57%2520(2).jpg', 'photo_2020-02-19_20-24-44%2520(2).jpg']\n",
    "\n",
    "data = data.drop(data[data.image.isin(non_images)].index)"
   ]
  },
  {
   "cell_type": "code",
   "execution_count": 92,
   "metadata": {
    "ExecuteTime": {
     "end_time": "2020-02-24T08:05:34.466156Z",
     "start_time": "2020-02-24T08:05:29.238063Z"
    }
   },
   "outputs": [
    {
     "name": "stdout",
     "output_type": "stream",
     "text": [
      "26423584250_612f177fef_b.jpg\n",
      "2739831_4.jpg\n",
      "282059-big.jpg\n",
      "657310_original.jpg\n",
      "74780-119713-21423-10rplui.cipk.jpg\n",
      "ad189c690d262ac2277b1d8de33d02707e6c48a1_824.jpg\n",
      "architecture-buildings-city-1094559.jpg\n",
      "crop_921_518.jpg\n",
      "download.jpg\n",
      "download_1.jpg\n",
      "download_2.jpg\n",
      "f2e405bc81297745151ca66a7528128f.jpg\n",
      "images.jpg\n",
      "JVXDsO2Lhd0Lp5tSSf1cu891SGXVeWQOymCffzMjrl2jt9TmS6enGdY75xeMXwdz4njC3RRnonGcTrutqNRHajGWJr25sv5q820.jpg\n",
      "ludi-stoyat-okolo-peshehodnogo-perehoda-zhdut-kogda-0006693143-preview.jpg\n",
      "photo_2020-02-19_20-22-38.jpg\n",
      "photo_2020-02-19_20-22-43.jpg\n",
      "photo_2020-02-19_20-22-44.jpg\n",
      "photo_2020-02-19_20-23-56.jpg\n",
      "photo_2020-02-19_20-24-00.jpg\n",
      "photo_2020-02-19_20-24-03.jpg\n",
      "photo_2020-02-19_20-24-07.jpg\n",
      "photo_2020-02-19_20-24-10.jpg\n",
      "photo_2020-02-19_20-24-12.jpg\n",
      "photo_2020-02-19_20-24-15.jpg\n",
      "photo_2020-02-19_20-24-42.jpg\n",
      "photo_2020-02-19_20-24-44%20(2).jpg\n",
      "photo_2020-02-19_20-24-44.jpg\n",
      "photo_2020-02-19_20-24-45.jpg\n",
      "photo_2020-02-19_20-24-46.jpg\n",
      "photo_2020-02-19_20-24-47%20(2).jpg\n",
      "photo_2020-02-19_20-24-47.jpg\n",
      "photo_2020-02-19_20-24-48.jpg\n",
      "photo_2020-02-19_20-24-49.jpg\n",
      "photo_2020-02-19_20-24-50%20(2).jpg\n",
      "photo_2020-02-19_20-24-50.jpg\n",
      "photo_2020-02-19_20-24-51.jpg\n",
      "photo_2020-02-19_20-24-52%20(2).jpg\n",
      "photo_2020-02-19_20-24-52.jpg\n",
      "photo_2020-02-19_20-24-53.jpg\n",
      "photo_2020-02-19_20-24-54.jpg\n",
      "photo_2020-02-19_20-24-55%20(2).jpg\n",
      "photo_2020-02-19_20-24-55.jpg\n",
      "photo_2020-02-19_20-24-56.jpg\n",
      "photo_2020-02-19_20-24-57%20(2).jpg\n",
      "photo_2020-02-19_20-24-57.jpg\n",
      "photo_2020-02-19_20-25-00.jpg\n",
      "sankt-peterburg-ludi-stoyat-na-peshehodnom-perehode-0027046551-preview.jpg\n",
      "unnamed.jpg\n",
      "vladivostok-ludi-stoyat-pered-peshehodnym-perehodom-0028913316-preview.jpg\n",
      "image_pedestrian_0.jpg\n",
      "image_pedestrian_1.jpg\n",
      "image_pedestrian_10.jpg\n",
      "image_pedestrian_11.jpg\n",
      "image_pedestrian_12.jpg\n",
      "image_pedestrian_13.jpg\n",
      "image_pedestrian_14.jpg\n",
      "image_pedestrian_15.jpg\n",
      "image_pedestrian_16.jpg\n",
      "image_pedestrian_17.jpg\n",
      "image_pedestrian_18.jpg\n",
      "image_pedestrian_19.jpg\n",
      "image_pedestrian_2.jpg\n",
      "image_pedestrian_20.jpg\n",
      "image_pedestrian_21.jpg\n",
      "image_pedestrian_22.jpg\n",
      "image_pedestrian_23.jpg\n",
      "image_pedestrian_24.jpg\n",
      "image_pedestrian_25.jpg\n",
      "image_pedestrian_26.jpg\n",
      "image_pedestrian_27.jpg\n",
      "image_pedestrian_28.jpg\n",
      "image_pedestrian_29.jpg\n",
      "image_pedestrian_3.jpg\n",
      "image_pedestrian_30.jpg\n",
      "image_pedestrian_31.jpg\n",
      "image_pedestrian_32.jpg\n",
      "image_pedestrian_33.jpg\n",
      "image_pedestrian_34.jpg\n",
      "image_pedestrian_35.jpg\n",
      "image_pedestrian_36.jpg\n",
      "image_pedestrian_37.jpg\n",
      "image_pedestrian_38.jpg\n",
      "image_pedestrian_39.jpg\n",
      "image_pedestrian_4.jpg\n",
      "image_pedestrian_40.jpg\n",
      "image_pedestrian_41.jpg\n",
      "image_pedestrian_42.jpg\n",
      "image_pedestrian_43.jpg\n",
      "image_pedestrian_44.jpg\n",
      "image_pedestrian_45.jpg\n",
      "image_pedestrian_46.jpg\n",
      "image_pedestrian_47.jpg\n",
      "image_pedestrian_48.jpg\n",
      "image_pedestrian_49.jpg\n",
      "image_pedestrian_5.jpg\n",
      "image_pedestrian_50.jpg\n",
      "image_pedestrian_51.jpg\n",
      "image_pedestrian_52.jpg\n",
      "image_pedestrian_53.jpg\n",
      "image_pedestrian_54.jpg\n",
      "image_pedestrian_55.jpg\n",
      "image_pedestrian_56.jpg\n",
      "image_pedestrian_57.jpg\n",
      "image_pedestrian_58.jpg\n",
      "image_pedestrian_59.jpg\n",
      "image_pedestrian_6.jpg\n",
      "image_pedestrian_60.jpg\n",
      "image_pedestrian_61.jpg\n",
      "image_pedestrian_62.jpg\n",
      "image_pedestrian_63.jpg\n",
      "image_pedestrian_64.jpg\n",
      "image_pedestrian_65.jpg\n",
      "image_pedestrian_66.jpg\n",
      "image_pedestrian_67.jpg\n",
      "image_pedestrian_68.jpg\n",
      "image_pedestrian_7.jpg\n",
      "image_pedestrian_8.jpg\n",
      "image_pedestrian_9.jpg\n"
     ]
    }
   ],
   "source": [
    "for img in data.image.unique():\n",
    "\n",
    "    path_img = os.path.join(images_path, img)\n",
    "    \n",
    "        \n",
    "    w, h, c = cv2.imread(path_img).shape\n",
    "    \n",
    "    data.loc[data.image == img, 'width'] = w\n",
    "    data.loc[data.image == img, 'height'] = h\n",
    "    \n",
    "    "
   ]
  },
  {
   "cell_type": "code",
   "execution_count": 93,
   "metadata": {
    "ExecuteTime": {
     "end_time": "2020-02-24T08:05:50.910927Z",
     "start_time": "2020-02-24T08:05:50.903258Z"
    }
   },
   "outputs": [],
   "source": [
    "data = data.rename(columns={'image': 'filename', 'label': 'class'})"
   ]
  },
  {
   "cell_type": "code",
   "execution_count": 94,
   "metadata": {
    "ExecuteTime": {
     "end_time": "2020-02-24T08:05:56.304329Z",
     "start_time": "2020-02-24T08:05:56.281385Z"
    }
   },
   "outputs": [
    {
     "data": {
      "text/html": [
       "<div>\n",
       "<style scoped>\n",
       "    .dataframe tbody tr th:only-of-type {\n",
       "        vertical-align: middle;\n",
       "    }\n",
       "\n",
       "    .dataframe tbody tr th {\n",
       "        vertical-align: top;\n",
       "    }\n",
       "\n",
       "    .dataframe thead th {\n",
       "        text-align: right;\n",
       "    }\n",
       "</style>\n",
       "<table border=\"1\" class=\"dataframe\">\n",
       "  <thead>\n",
       "    <tr style=\"text-align: right;\">\n",
       "      <th></th>\n",
       "      <th>filename</th>\n",
       "      <th>xmin</th>\n",
       "      <th>ymin</th>\n",
       "      <th>xmax</th>\n",
       "      <th>ymax</th>\n",
       "      <th>class</th>\n",
       "      <th>width</th>\n",
       "      <th>height</th>\n",
       "    </tr>\n",
       "  </thead>\n",
       "  <tbody>\n",
       "    <tr>\n",
       "      <td>0</td>\n",
       "      <td>26423584250_612f177fef_b.jpg</td>\n",
       "      <td>736.960157</td>\n",
       "      <td>275.811749</td>\n",
       "      <td>789.990983</td>\n",
       "      <td>543.456851</td>\n",
       "      <td>Pedestrian</td>\n",
       "      <td>683.0</td>\n",
       "      <td>1024.0</td>\n",
       "    </tr>\n",
       "    <tr>\n",
       "      <td>1</td>\n",
       "      <td>26423584250_612f177fef_b.jpg</td>\n",
       "      <td>796.725031</td>\n",
       "      <td>286.753241</td>\n",
       "      <td>910.362515</td>\n",
       "      <td>683.000000</td>\n",
       "      <td>Pedestrian</td>\n",
       "      <td>683.0</td>\n",
       "      <td>1024.0</td>\n",
       "    </tr>\n",
       "    <tr>\n",
       "      <td>2</td>\n",
       "      <td>26423584250_612f177fef_b.jpg</td>\n",
       "      <td>796.725031</td>\n",
       "      <td>286.753241</td>\n",
       "      <td>910.362515</td>\n",
       "      <td>683.000000</td>\n",
       "      <td>Road</td>\n",
       "      <td>683.0</td>\n",
       "      <td>1024.0</td>\n",
       "    </tr>\n",
       "    <tr>\n",
       "      <td>3</td>\n",
       "      <td>26423584250_612f177fef_b.jpg</td>\n",
       "      <td>252.106890</td>\n",
       "      <td>226.995989</td>\n",
       "      <td>271.467324</td>\n",
       "      <td>264.028657</td>\n",
       "      <td>Pedestrian</td>\n",
       "      <td>683.0</td>\n",
       "      <td>1024.0</td>\n",
       "    </tr>\n",
       "    <tr>\n",
       "      <td>4</td>\n",
       "      <td>26423584250_612f177fef_b.jpg</td>\n",
       "      <td>203.284834</td>\n",
       "      <td>222.787720</td>\n",
       "      <td>219.278283</td>\n",
       "      <td>252.245527</td>\n",
       "      <td>Pedestrian</td>\n",
       "      <td>683.0</td>\n",
       "      <td>1024.0</td>\n",
       "    </tr>\n",
       "  </tbody>\n",
       "</table>\n",
       "</div>"
      ],
      "text/plain": [
       "                       filename        xmin        ymin        xmax  \\\n",
       "0  26423584250_612f177fef_b.jpg  736.960157  275.811749  789.990983   \n",
       "1  26423584250_612f177fef_b.jpg  796.725031  286.753241  910.362515   \n",
       "2  26423584250_612f177fef_b.jpg  796.725031  286.753241  910.362515   \n",
       "3  26423584250_612f177fef_b.jpg  252.106890  226.995989  271.467324   \n",
       "4  26423584250_612f177fef_b.jpg  203.284834  222.787720  219.278283   \n",
       "\n",
       "         ymax       class  width  height  \n",
       "0  543.456851  Pedestrian  683.0  1024.0  \n",
       "1  683.000000  Pedestrian  683.0  1024.0  \n",
       "2  683.000000        Road  683.0  1024.0  \n",
       "3  264.028657  Pedestrian  683.0  1024.0  \n",
       "4  252.245527  Pedestrian  683.0  1024.0  "
      ]
     },
     "execution_count": 94,
     "metadata": {},
     "output_type": "execute_result"
    }
   ],
   "source": [
    "data.head()"
   ]
  },
  {
   "cell_type": "code",
   "execution_count": 95,
   "metadata": {
    "ExecuteTime": {
     "end_time": "2020-02-24T08:06:09.201069Z",
     "start_time": "2020-02-24T08:06:09.161827Z"
    }
   },
   "outputs": [],
   "source": [
    "data.to_csv('annotation.csv', index=False, index_label=False)"
   ]
  },
  {
   "cell_type": "markdown",
   "metadata": {},
   "source": [
    "# SPLIT INTO TRAIN AND TEST"
   ]
  },
  {
   "cell_type": "code",
   "execution_count": 96,
   "metadata": {
    "ExecuteTime": {
     "end_time": "2020-02-24T08:13:04.123778Z",
     "start_time": "2020-02-24T08:13:04.092949Z"
    }
   },
   "outputs": [
    {
     "data": {
      "text/html": [
       "<div>\n",
       "<style scoped>\n",
       "    .dataframe tbody tr th:only-of-type {\n",
       "        vertical-align: middle;\n",
       "    }\n",
       "\n",
       "    .dataframe tbody tr th {\n",
       "        vertical-align: top;\n",
       "    }\n",
       "\n",
       "    .dataframe thead th {\n",
       "        text-align: right;\n",
       "    }\n",
       "</style>\n",
       "<table border=\"1\" class=\"dataframe\">\n",
       "  <thead>\n",
       "    <tr style=\"text-align: right;\">\n",
       "      <th></th>\n",
       "      <th>filename</th>\n",
       "      <th>xmin</th>\n",
       "      <th>ymin</th>\n",
       "      <th>xmax</th>\n",
       "      <th>ymax</th>\n",
       "      <th>class</th>\n",
       "      <th>width</th>\n",
       "      <th>height</th>\n",
       "    </tr>\n",
       "  </thead>\n",
       "  <tbody>\n",
       "    <tr>\n",
       "      <td>0</td>\n",
       "      <td>26423584250_612f177fef_b.jpg</td>\n",
       "      <td>736.960157</td>\n",
       "      <td>275.811749</td>\n",
       "      <td>789.990983</td>\n",
       "      <td>543.456851</td>\n",
       "      <td>Pedestrian</td>\n",
       "      <td>683.0</td>\n",
       "      <td>1024.0</td>\n",
       "    </tr>\n",
       "    <tr>\n",
       "      <td>1</td>\n",
       "      <td>26423584250_612f177fef_b.jpg</td>\n",
       "      <td>796.725031</td>\n",
       "      <td>286.753241</td>\n",
       "      <td>910.362515</td>\n",
       "      <td>683.000000</td>\n",
       "      <td>Pedestrian</td>\n",
       "      <td>683.0</td>\n",
       "      <td>1024.0</td>\n",
       "    </tr>\n",
       "    <tr>\n",
       "      <td>2</td>\n",
       "      <td>26423584250_612f177fef_b.jpg</td>\n",
       "      <td>796.725031</td>\n",
       "      <td>286.753241</td>\n",
       "      <td>910.362515</td>\n",
       "      <td>683.000000</td>\n",
       "      <td>Road</td>\n",
       "      <td>683.0</td>\n",
       "      <td>1024.0</td>\n",
       "    </tr>\n",
       "    <tr>\n",
       "      <td>3</td>\n",
       "      <td>26423584250_612f177fef_b.jpg</td>\n",
       "      <td>252.106890</td>\n",
       "      <td>226.995989</td>\n",
       "      <td>271.467324</td>\n",
       "      <td>264.028657</td>\n",
       "      <td>Pedestrian</td>\n",
       "      <td>683.0</td>\n",
       "      <td>1024.0</td>\n",
       "    </tr>\n",
       "    <tr>\n",
       "      <td>4</td>\n",
       "      <td>26423584250_612f177fef_b.jpg</td>\n",
       "      <td>203.284834</td>\n",
       "      <td>222.787720</td>\n",
       "      <td>219.278283</td>\n",
       "      <td>252.245527</td>\n",
       "      <td>Pedestrian</td>\n",
       "      <td>683.0</td>\n",
       "      <td>1024.0</td>\n",
       "    </tr>\n",
       "  </tbody>\n",
       "</table>\n",
       "</div>"
      ],
      "text/plain": [
       "                       filename        xmin        ymin        xmax  \\\n",
       "0  26423584250_612f177fef_b.jpg  736.960157  275.811749  789.990983   \n",
       "1  26423584250_612f177fef_b.jpg  796.725031  286.753241  910.362515   \n",
       "2  26423584250_612f177fef_b.jpg  796.725031  286.753241  910.362515   \n",
       "3  26423584250_612f177fef_b.jpg  252.106890  226.995989  271.467324   \n",
       "4  26423584250_612f177fef_b.jpg  203.284834  222.787720  219.278283   \n",
       "\n",
       "         ymax       class  width  height  \n",
       "0  543.456851  Pedestrian  683.0  1024.0  \n",
       "1  683.000000  Pedestrian  683.0  1024.0  \n",
       "2  683.000000        Road  683.0  1024.0  \n",
       "3  264.028657  Pedestrian  683.0  1024.0  \n",
       "4  252.245527  Pedestrian  683.0  1024.0  "
      ]
     },
     "execution_count": 96,
     "metadata": {},
     "output_type": "execute_result"
    }
   ],
   "source": [
    "data = pd.read_csv('annotation.csv')\n",
    "data.head()"
   ]
  },
  {
   "cell_type": "code",
   "execution_count": 106,
   "metadata": {
    "ExecuteTime": {
     "end_time": "2020-02-24T08:15:18.547651Z",
     "start_time": "2020-02-24T08:15:18.537677Z"
    }
   },
   "outputs": [],
   "source": [
    "all_len_imgs = data.filename.unique().shape[0]\n",
    "\n",
    "train_images_len = int(all_len_imgs * .9)\n",
    "test_images_len = int(all_len_imgs * .1)"
   ]
  },
  {
   "cell_type": "code",
   "execution_count": 115,
   "metadata": {
    "ExecuteTime": {
     "end_time": "2020-02-24T08:19:25.197770Z",
     "start_time": "2020-02-24T08:19:25.188121Z"
    }
   },
   "outputs": [],
   "source": [
    "train_imgs = np.random.choice(data.filename.unique(), train_images_len, False)\n",
    "test_imgs = data[~data.filename.isin(train_imgs)].filename"
   ]
  },
  {
   "cell_type": "code",
   "execution_count": 120,
   "metadata": {
    "ExecuteTime": {
     "end_time": "2020-02-24T08:22:26.805759Z",
     "start_time": "2020-02-24T08:22:26.797016Z"
    }
   },
   "outputs": [],
   "source": [
    "train_ann = data[data.filename.isin(train_imgs)]\n",
    "test_ann = data[data.filename.isin(test_imgs)]"
   ]
  },
  {
   "cell_type": "code",
   "execution_count": 123,
   "metadata": {
    "ExecuteTime": {
     "end_time": "2020-02-24T08:24:19.911170Z",
     "start_time": "2020-02-24T08:24:19.879795Z"
    }
   },
   "outputs": [],
   "source": [
    "train_ann.to_csv('train_annotation.csv', index=False, index_label=False)\n",
    "test_ann.to_csv('test_annotation.csv', index=False, index_label=False)"
   ]
  },
  {
   "cell_type": "markdown",
   "metadata": {},
   "source": [
    "## COPY TO TRAIN / TEST FOLDER"
   ]
  },
  {
   "cell_type": "code",
   "execution_count": 125,
   "metadata": {
    "ExecuteTime": {
     "end_time": "2020-02-24T08:26:10.911655Z",
     "start_time": "2020-02-24T08:26:10.906940Z"
    }
   },
   "outputs": [],
   "source": [
    "from shutil import copy"
   ]
  },
  {
   "cell_type": "code",
   "execution_count": 129,
   "metadata": {
    "ExecuteTime": {
     "end_time": "2020-02-24T08:29:31.890356Z",
     "start_time": "2020-02-24T08:29:31.885370Z"
    }
   },
   "outputs": [],
   "source": [
    "train_folder = 'Train'\n",
    "test_folder = 'Test'"
   ]
  },
  {
   "cell_type": "code",
   "execution_count": 127,
   "metadata": {
    "ExecuteTime": {
     "end_time": "2020-02-24T08:28:42.233430Z",
     "start_time": "2020-02-24T08:28:42.226356Z"
    }
   },
   "outputs": [],
   "source": [
    "if not os.path.exists(train_folder):\n",
    "    os.mkdir(train_folder)\n",
    "    \n",
    "if not os.path.exists(test_folder):\n",
    "    os.mkdir(test_folder)"
   ]
  },
  {
   "cell_type": "code",
   "execution_count": 128,
   "metadata": {
    "ExecuteTime": {
     "end_time": "2020-02-24T08:29:01.751037Z",
     "start_time": "2020-02-24T08:29:01.451728Z"
    }
   },
   "outputs": [],
   "source": [
    "for img in train_ann.filename.unique():\n",
    "    \n",
    "    copy(f'images/{img}', train_folder)"
   ]
  },
  {
   "cell_type": "code",
   "execution_count": 130,
   "metadata": {
    "ExecuteTime": {
     "end_time": "2020-02-24T08:29:58.796509Z",
     "start_time": "2020-02-24T08:29:58.760196Z"
    }
   },
   "outputs": [],
   "source": [
    "for img in test_ann.filename.unique():\n",
    "    \n",
    "    copy(f'images/{img}', test_folder)"
   ]
  },
  {
   "cell_type": "markdown",
   "metadata": {},
   "source": [
    "# REANAME IMAGES"
   ]
  },
  {
   "cell_type": "code",
   "execution_count": 72,
   "metadata": {
    "ExecuteTime": {
     "end_time": "2020-02-22T11:25:50.822897Z",
     "start_time": "2020-02-22T11:25:50.750732Z"
    }
   },
   "outputs": [],
   "source": [
    "# last number 68\n",
    "\n",
    "count = 0\n",
    "\n",
    "new_images_dir = 'new_images'\n",
    "imgs = [f'{new_images_dir}/{i}' for i in os.listdir(new_images_dir)]\n",
    "\n",
    "for img in imgs:\n",
    "    \n",
    "    os.rename(img, f'{new_images_dir}/image_pedestrian_{count}.jpg')\n",
    "    \n",
    "    count += 1"
   ]
  },
  {
   "cell_type": "code",
   "execution_count": 67,
   "metadata": {
    "ExecuteTime": {
     "end_time": "2020-02-22T11:23:11.075837Z",
     "start_time": "2020-02-22T11:23:11.066863Z"
    }
   },
   "outputs": [
    {
     "data": {
      "text/plain": [
       "['new_images']"
      ]
     },
     "execution_count": 67,
     "metadata": {},
     "output_type": "execute_result"
    }
   ],
   "source": [
    "img_path"
   ]
  }
 ],
 "metadata": {
  "kernelspec": {
   "display_name": "Python 3",
   "language": "python",
   "name": "python3"
  },
  "language_info": {
   "codemirror_mode": {
    "name": "ipython",
    "version": 3
   },
   "file_extension": ".py",
   "mimetype": "text/x-python",
   "name": "python",
   "nbconvert_exporter": "python",
   "pygments_lexer": "ipython3",
   "version": "3.7.3"
  },
  "toc": {
   "base_numbering": 1,
   "nav_menu": {},
   "number_sections": true,
   "sideBar": true,
   "skip_h1_title": false,
   "title_cell": "Table of Contents",
   "title_sidebar": "Contents",
   "toc_cell": false,
   "toc_position": {},
   "toc_section_display": true,
   "toc_window_display": false
  },
  "varInspector": {
   "cols": {
    "lenName": 16,
    "lenType": 16,
    "lenVar": 40
   },
   "kernels_config": {
    "python": {
     "delete_cmd_postfix": "",
     "delete_cmd_prefix": "del ",
     "library": "var_list.py",
     "varRefreshCmd": "print(var_dic_list())"
    },
    "r": {
     "delete_cmd_postfix": ") ",
     "delete_cmd_prefix": "rm(",
     "library": "var_list.r",
     "varRefreshCmd": "cat(var_dic_list()) "
    }
   },
   "types_to_exclude": [
    "module",
    "function",
    "builtin_function_or_method",
    "instance",
    "_Feature"
   ],
   "window_display": false
  }
 },
 "nbformat": 4,
 "nbformat_minor": 2
}
